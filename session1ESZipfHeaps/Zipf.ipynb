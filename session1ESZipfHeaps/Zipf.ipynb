{
 "cells": [
  {
   "cell_type": "code",
   "execution_count": 5,
   "metadata": {},
   "outputs": [],
   "source": [
    "import re\n",
    "import numpy as np\n",
    "import matplotlib.pyplot as plt\n",
    "from math import log\n",
    "from scipy.optimize import curve_fit"
   ]
  },
  {
   "cell_type": "code",
   "execution_count": null,
   "metadata": {},
   "outputs": [],
   "source": [
    "from os import environ, path, remove\n",
    "from elasticsearch import Elasticsearch\n",
    "from elasticsearch.helpers import scan\n",
    "from elasticsearch.exceptions import NotFoundError, TransportError\n",
    "\n",
    "client = Elasticsearch(hosts=environ.get('bonsai_CAIM'))"
   ]
  },
  {
   "cell_type": "code",
   "execution_count": 29,
   "metadata": {},
   "outputs": [],
   "source": [
    "def prepare_data(file):\n",
    "    ydata = []\n",
    "    with open(file) as cw_novels:\n",
    "        lines = cw_novels.readlines()\n",
    "        for line in lines:\n",
    "            line = line.replace('\\x00','').replace('\\n', '')\n",
    "            if re.search(r',', line):\n",
    "                [count, word] = line.split(', ', maxsplit=1)\n",
    "                if not re.search(r'\\d|\\.|_', word) and re.match(r'^[A-Za-z]+$', word):\n",
    "                    ydata.insert(0, int(count))\n",
    "    xdata = [x for x in range(1, len(ydata) + 1)]\n",
    "    logX = [log(x) for x in xdata]\n",
    "    logY = [log(y) for y in ydata]\n",
    "    \n",
    "    return xdata, ydata, logX, logY\n",
    "\n",
    "def func_powerlaw(x, a, b, c):\n",
    "    return c / (x + b) ** a\n",
    "\n",
    "def fitting(xdata, ydata, func):\n",
    "    popt, pcov = curve_fit(func, xdata, ydata, maxfev=2000, bounds=([-np.inf, .99, -np.inf], [np.inf, 1., np.inf]))\n",
    "    return popt, pcov\n",
    "\n",
    "def plot_data(xdata, ydata):\n",
    "    plt.plot(xdata, ydata, 'ro', label='data')\n",
    "    plt.xlabel('x')\n",
    "    plt.ylabel('y')\n",
    "    plt.legend()"
   ]
  },
  {
   "cell_type": "markdown",
   "metadata": {},
   "source": [
    "## NOVELS"
   ]
  },
  {
   "cell_type": "code",
   "execution_count": 24,
   "metadata": {},
   "outputs": [],
   "source": [
    "x_novels, y_novels, logX_novels, logY_novels = prepare_data(\"cwords_novels.txt\")"
   ]
  },
  {
   "cell_type": "code",
   "execution_count": 30,
   "metadata": {},
   "outputs": [
    {
     "name": "stdout",
     "output_type": "stream",
     "text": [
      "[1.03867520e+00 9.90000000e-01 4.09988448e+05]\n",
      "[[6.08168844e-07 2.79570952e-06 7.31963964e-01]\n",
      " [2.79570952e-06 1.63355916e-05 3.84879033e+00]\n",
      " [7.31963964e-01 3.84879033e+00 9.66323331e+05]]\n"
     ]
    }
   ],
   "source": [
    "popt_novels, pcov_novels = fitting(x_novels, y_novels, func_powerlaw)\n",
    "print(popt_novels)\n",
    "print(pcov_novels)"
   ]
  },
  {
   "cell_type": "code",
   "execution_count": 34,
   "metadata": {},
   "outputs": [
    {
     "data": {
      "text/plain": [
       "<matplotlib.legend.Legend at 0x1d6c65da240>"
      ]
     },
     "execution_count": 34,
     "metadata": {},
     "output_type": "execute_result"
    },
    {
     "data": {
      "image/png": "[encoded data removed]",
      "text/plain": [
       "<Figure size 432x288 with 1 Axes>"
      ]
     },
     "metadata": {},
     "output_type": "display_data"
    }
   ],
   "source": [
    "plot_data(x_novels, y_novels)\n",
    "plt.plot(x_novels, func_powerlaw(x_novels, *popt_novels), 'g-', label='fit: a=%5.3f, b=%5.3f, c=%5.3f' % tuple(popt_novels))\n",
    "plt.legend()"
   ]
  },
  {
   "cell_type": "code",
   "execution_count": 10,
   "metadata": {},
   "outputs": [
    {
     "data": {
      "image/png": "[encoded data removed]",
      "text/plain": [
       "<Figure size 432x288 with 1 Axes>"
      ]
     },
     "metadata": {},
     "output_type": "display_data"
    }
   ],
   "source": [
    "plot_data(logX_novels, logY_novels)"
   ]
  },
  {
   "cell_type": "markdown",
   "metadata": {},
   "source": [
    "## NEWS"
   ]
  },
  {
   "cell_type": "code",
   "execution_count": null,
   "metadata": {},
   "outputs": [],
   "source": [
    "x_news, y_news, logX_news, logY_news = prepare_data(\"cwords_news.txt\")"
   ]
  },
  {
   "cell_type": "code",
   "execution_count": null,
   "metadata": {},
   "outputs": [],
   "source": [
    "popt_news, pcov_news = fitting(x_news, y_news, func_powerlaw)\n",
    "print(popt_news)\n",
    "print(pcov_news)"
   ]
  },
  {
   "cell_type": "code",
   "execution_count": null,
   "metadata": {},
   "outputs": [],
   "source": [
    "plot_data(x_news, y_news)\n",
    "plt.plot(x_news, func_powerlaw(x_news, *popt_news), 'g-', label='fit: a=%5.3f, b=%5.3f, c=%5.3f' % tuple(popt_news))\n",
    "plt.legend()"
   ]
  },
  {
   "cell_type": "code",
   "execution_count": null,
   "metadata": {},
   "outputs": [],
   "source": [
    "plot_data(logX_news, logY_news)"
   ]
  },
  {
   "cell_type": "code",
   "execution_count": null,
   "metadata": {},
   "outputs": [],
   "source": []
  }
 ],
 "metadata": {
  "kernelspec": {
   "display_name": "Python 3",
   "language": "python",
   "name": "python3"
  },
  "language_info": {
   "codemirror_mode": {
    "name": "ipython",
    "version": 3
   },
   "file_extension": ".py",
   "mimetype": "text/x-python",
   "name": "python",
   "nbconvert_exporter": "python",
   "pygments_lexer": "ipython3",
   "version": "3.6.5"
  }
 },
 "nbformat": 4,
 "nbformat_minor": 2
}
