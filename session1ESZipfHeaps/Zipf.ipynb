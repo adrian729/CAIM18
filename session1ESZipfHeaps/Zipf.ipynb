{
 "cells": [
  {
   "cell_type": "code",
   "execution_count": 300,
   "metadata": {},
   "outputs": [],
   "source": [
    "import re\n",
    "import matplotlib.pyplot as plt\n",
    "from math import log\n",
    "from scipy.optimize import curve_fit"
   ]
  },
  {
   "cell_type": "code",
   "execution_count": null,
   "metadata": {},
   "outputs": [],
   "source": [
    "from os import environ, path, remove\n",
    "from elasticsearch import Elasticsearch\n",
    "from elasticsearch.helpers import scan\n",
    "from elasticsearch.exceptions import NotFoundError, TransportError\n",
    "\n",
    "client = Elasticsearch(hosts=environ.get('bonsai_CAIM'))"
   ]
  },
  {
   "cell_type": "code",
   "execution_count": 308,
   "metadata": {},
   "outputs": [],
   "source": [
    "ydata = []\n",
    "with open(\"cwords_novels.txt\") as cw_novels:\n",
    "    lines = cw_novels.readlines()\n",
    "    for line in lines:\n",
    "        line = line.replace('\\x00','').replace('\\n', '')\n",
    "        if re.search(r',', line):\n",
    "            [count, word] = line.split(', ', maxsplit=1)\n",
    "            if not re.search(r'\\d|\\.|_', word) and re.match(r'^[A-Za-zÇ-ÜñÑ\\']+$', word):\n",
    "                ydata.insert(0, count)\n",
    "xdata = [x for x in range(1, len(ydata) + 1)]\n",
    "ydata = [int(y) for y in ydata]\n",
    "\n",
    "logX = [log(x) for x in xdata]\n",
    "logY = [log(y) for y in ydata]"
   ]
  },
  {
   "cell_type": "code",
   "execution_count": 289,
   "metadata": {},
   "outputs": [],
   "source": [
    "def func_powerlaw(x, a, b, c):\n",
    "    return c / pow(x + b, a)"
   ]
  },
  {
   "cell_type": "code",
   "execution_count": 309,
   "metadata": {},
   "outputs": [
    {
     "name": "stderr",
     "output_type": "stream",
     "text": [
      "D:\\SOFT\\anaconda3\\lib\\site-packages\\ipykernel_launcher.py:2: RuntimeWarning: invalid value encountered in power\n",
      "  \n"
     ]
    }
   ],
   "source": [
    "popt, pcov = curve_fit(func_powerlaw, xdata, ydata, maxfev=5000)"
   ]
  },
  {
   "cell_type": "code",
   "execution_count": 311,
   "metadata": {},
   "outputs": [
    {
     "data": {
      "image/png": "[encoded data removed]",
      "text/plain": [
       "<Figure size 432x288 with 1 Axes>"
      ]
     },
     "metadata": {},
     "output_type": "display_data"
    }
   ],
   "source": [
    "plt.figure()\n",
    "plt.plot(xdata, ydata, 'ro')\n",
    "plt.show()"
   ]
  },
  {
   "cell_type": "code",
   "execution_count": 310,
   "metadata": {},
   "outputs": [
    {
     "data": {
      "image/png": "[encoded data removed]",
      "text/plain": [
       "<Figure size 432x288 with 1 Axes>"
      ]
     },
     "metadata": {},
     "output_type": "display_data"
    }
   ],
   "source": [
    "plt.figure()\n",
    "plt.plot(logX, logY, 'ro')\n",
    "plt.show()"
   ]
  }
 ],
 "metadata": {
  "kernelspec": {
   "display_name": "Python 3",
   "language": "python",
   "name": "python3"
  },
  "language_info": {
   "codemirror_mode": {
    "name": "ipython",
    "version": 3
   },
   "file_extension": ".py",
   "mimetype": "text/x-python",
   "name": "python",
   "nbconvert_exporter": "python",
   "pygments_lexer": "ipython3",
   "version": "3.6.5"
  }
 },
 "nbformat": 4,
 "nbformat_minor": 2
}
