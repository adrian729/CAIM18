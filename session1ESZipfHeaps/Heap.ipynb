{
 "cells": [
  {
   "cell_type": "code",
   "execution_count": 14,
   "metadata": {},
   "outputs": [],
   "source": [
    "import os\n",
    "import random\n",
    "from elasticsearch import Elasticsearch\n",
    "from elasticsearch.helpers import bulk\n",
    "from elasticsearch.exceptions import NotFoundError\n",
    "from elasticsearch_dsl import Index"
   ]
  },
  {
   "cell_type": "code",
   "execution_count": 54,
   "metadata": {},
   "outputs": [],
   "source": [
    "def generate_list_of_files(path):\n",
    "    files = [(x[0], x[2]) for x in os.walk(path) if x[2]]\n",
    "    files = map(lambda path_files: [path_files[0] + '/' + f for f in path_files[1]], files)\n",
    "    return sum(list(files), [])"
   ]
  },
  {
   "cell_type": "code",
   "execution_count": 57,
   "metadata": {},
   "outputs": [
    {
     "name": "stdout",
     "output_type": "stream",
     "text": [
      "['../data/novels/27531-0.txt', '../data/novels/DarwinOriginofSpecies.txt', '../data/novels/DickensAChristmasCarol.txt', '../data/novels/DickensGreatExpectations.txt', '../data/novels/DickensThePickwickPapers.txt', '../data/novels/KiplingJungleBook.txt', '../data/novels/LondonCallofTheWild.txt', '../data/novels/pg13314.txt', '../data/novels/pg1410.txt', '../data/novels/pg14458.txt', '../data/novels/pg17326.txt', '../data/novels/pg20826.txt', '../data/novels/pg20939.txt', '../data/novels/pg22082.txt', '../data/novels/pg22566.txt', '../data/novels/pg2482.txt', '../data/novels/pg30896.txt', '../data/novels/pg31151.txt', '../data/novels/pg31796.txt', '../data/novels/pg34381.txt', '../data/novels/pg37766.txt', '../data/novels/pg38498.txt', '../data/novels/pg4064.txt', '../data/novels/pg4228.txt', '../data/novels/pg43550.txt', '../data/novels/pg4358.txt', '../data/novels/pg4361.txt', '../data/novels/pg6087.txt', '../data/novels/PoeWorksVol1.txt', '../data/novels/PoeWorksVol2.txt', '../data/novels/RiceBurroughsAprincessofMars.txt', '../data/novels/WellsTimeMachine.txt', '../data/novels/WellsWarofTheWorlds.txt']\n",
      "\n",
      "['../data/novels/WellsTimeMachine.txt', '../data/novels/pg17326.txt', '../data/novels/WellsWarofTheWorlds.txt', '../data/novels/PoeWorksVol1.txt', '../data/novels/pg43550.txt']\n",
      "\n",
      "['../data/novels/pg31796.txt', '../data/novels/pg43550.txt', '../data/novels/pg20939.txt', '../data/novels/DickensThePickwickPapers.txt', '../data/novels/DickensAChristmasCarol.txt']\n"
     ]
    }
   ],
   "source": [
    "files = generate_list_of_files('../data/novels')\n",
    "print(files)\n",
    "print()\n",
    "print(random.sample(files, 5))\n",
    "print()\n",
    "print(random.sample(files, 5))"
   ]
  }
 ],
 "metadata": {
  "kernelspec": {
   "display_name": "Python 3",
   "language": "python",
   "name": "python3"
  },
  "language_info": {
   "codemirror_mode": {
    "name": "ipython",
    "version": 3
   },
   "file_extension": ".py",
   "mimetype": "text/x-python",
   "name": "python",
   "nbconvert_exporter": "python",
   "pygments_lexer": "ipython3",
   "version": "3.6.5"
  }
 },
 "nbformat": 4,
 "nbformat_minor": 2
}
