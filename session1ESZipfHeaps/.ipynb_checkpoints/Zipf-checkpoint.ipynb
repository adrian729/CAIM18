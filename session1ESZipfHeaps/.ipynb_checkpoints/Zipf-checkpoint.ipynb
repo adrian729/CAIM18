{
 "cells": [
  {
   "cell_type": "code",
   "execution_count": 178,
   "metadata": {},
   "outputs": [],
   "source": [
    "import re\n",
    "from os import environ, path, remove\n",
    "from elasticsearch import Elasticsearch\n",
    "from elasticsearch.helpers import scan\n",
    "from elasticsearch.exceptions import NotFoundError, TransportError\n",
    "\n",
    "client = Elasticsearch(hosts=environ.get('bonsai_CAIM'))"
   ]
  },
  {
   "cell_type": "code",
   "execution_count": 186,
   "metadata": {},
   "outputs": [
    {
     "name": "stdout",
     "output_type": "stream",
     "text": [
      "61824 56513\n"
     ]
    }
   ],
   "source": [
    "if path.exists(\"cw_novels_valid.txt\"):\n",
    "    remove(\"cw_novels_valid.txt\")\n",
    "\n",
    "with open(\"cwords_novels.txt\") as cw_novels, open(\"cw_novels_valid.txt\", \"a\") as cw_novels_valid:\n",
    "    lines = cw_novels.readlines()\n",
    "    c = 0\n",
    "    t = 0\n",
    "    for line in lines:\n",
    "        line = line.replace('\\x00','').split(', ', maxsplit=1)\n",
    "        t += 1\n",
    "        if len(line) == 2: word = line[1]\n",
    "        if not re.search(r'\\d|\\.|_', word) and re.match(r'^[A-Za-zÇ-ÜñÑ\\']+$', word):\n",
    "            cw_novels_valid.write(word)\n",
    "            c += 1\n",
    "print(t, c)"
   ]
  },
  {
   "cell_type": "code",
   "execution_count": null,
   "metadata": {},
   "outputs": [],
   "source": []
  },
  {
   "cell_type": "code",
   "execution_count": null,
   "metadata": {},
   "outputs": [],
   "source": []
  }
 ],
 "metadata": {
  "kernelspec": {
   "display_name": "Python 3",
   "language": "python",
   "name": "python3"
  },
  "language_info": {
   "codemirror_mode": {
    "name": "ipython",
    "version": 3
   },
   "file_extension": ".py",
   "mimetype": "text/x-python",
   "name": "python",
   "nbconvert_exporter": "python",
   "pygments_lexer": "ipython3",
   "version": "3.6.5"
  }
 },
 "nbformat": 4,
 "nbformat_minor": 2
}
