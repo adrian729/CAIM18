{
 "cells": [
  {
   "cell_type": "code",
   "execution_count": 3,
   "metadata": {},
   "outputs": [],
   "source": [
    "import os\n",
    "import re\n",
    "import numpy as np\n",
    "import matplotlib.pyplot as plt\n",
    "from math import log\n",
    "from scipy.optimize import curve_fit"
   ]
  },
  {
   "cell_type": "code",
   "execution_count": 8,
   "metadata": {},
   "outputs": [],
   "source": [
    "def generate_files_dict(path):\n",
    "    dfiles = {}\n",
    "\n",
    "    for df in os.walk(path):\n",
    "        if df[2]:\n",
    "            for f in df[2]:                \n",
    "                dfiles[df[0] + '/' + f] = {}\n",
    "    return dfiles"
   ]
  },
  {
   "cell_type": "code",
   "execution_count": 14,
   "metadata": {},
   "outputs": [],
   "source": [
    "def prepare_data(file):\n",
    "    ydata = []\n",
    "    words = []\n",
    "    with open(file, encoding='iso-8859-1') as cw_novels:\n",
    "        lines = cw_novels.readlines()\n",
    "        for line in lines:\n",
    "            line = line.replace('\\x00','').replace('ÿþ', '').replace('\\n', '')\n",
    "            if re.search(r',', line):\n",
    "                [count, word] = line.split(', ', maxsplit=1)\n",
    "                word = word[2:-1] # CountWords.py doesn't work, needed a cast and saved data as binaries in a string \n",
    "                                  # (recast was a lot more work than doing this)\n",
    "                if not re.search(r'\\d|\\.|_', word) \\\n",
    "                    and re.match(r'^[A-Za-z]+$', word):\n",
    "                    ydata.insert(0, int(count))\n",
    "                    words. insert(0, word)\n",
    "    xdata = [x for x in range(1, len(ydata) + 1)]\n",
    "    \n",
    "    return xdata, ydata, words\n",
    "\n",
    "def func_zipf(x, a, b, c):\n",
    "    return c / (x + b) ** a\n",
    "\n",
    "def fitting(xdata, ydata, func):\n",
    "    popt, pcov = curve_fit(\n",
    "        func, \n",
    "        xdata,\n",
    "        ydata, \n",
    "        maxfev=2000\n",
    "    )\n",
    "    return popt, pcov\n",
    "\n",
    "def fmse(xdata, ydata, popt, func):\n",
    "    x = np.array(list(map(lambda x: func(x, *popt), xdata)))\n",
    "    y = np.array(ydata)\n",
    "    return ((x - y)**2).mean(axis=None)\n",
    "\n",
    "def reduce_head_mse(x_data, y_data, func, max_rem=1000):\n",
    "    rem = 1\n",
    "    last_mse = -1\n",
    "    mse = 0\n",
    "    step = 200\n",
    "    while rem < max_rem and abs(last_mse - mse) > 0.1:\n",
    "        last_mse = mse\n",
    "        x = x_data[rem:]\n",
    "        y = y_data[rem:]\n",
    "        popt, _ = fitting(x, y, func)\n",
    "        mse = fmse(x, y, popt, func)\n",
    "        rem += step\n",
    "    return (rem - step), popt, mse"
   ]
  },
  {
   "cell_type": "code",
   "execution_count": 23,
   "metadata": {},
   "outputs": [],
   "source": [
    "def explore_data(file):\n",
    "    x, y, words = prepare_data(file)\n",
    "    popt, _ = fitting(x, y, func_zipf)\n",
    "    mse = fmse(x, y, popt, func_zipf)\n",
    "    rem, popt_rem, mse_rem = reduce_head_mse(x, y, func_zipf, 4500)\n",
    "    result = {}\n",
    "    result['all'] = {}\n",
    "    result['all']['y'] = y\n",
    "    result['all']['words'] = words\n",
    "    result['all']['popt'] = list(popt)\n",
    "    result['all']['mse'] = mse\n",
    "    result['remove'] = {}\n",
    "    result['remove']['rem'] = rem\n",
    "    result['remove']['popt'] = list(popt_rem)\n",
    "    result['remove']['mse'] = mse_rem\n",
    "    return result"
   ]
  },
  {
   "cell_type": "code",
   "execution_count": 11,
   "metadata": {},
   "outputs": [],
   "source": [
    "data = generate_files_dict(\"./cwords_done\")"
   ]
  },
  {
   "cell_type": "code",
   "execution_count": 25,
   "metadata": {},
   "outputs": [
    {
     "name": "stderr",
     "output_type": "stream",
     "text": [
      "D:\\SOFT\\anaconda3\\lib\\site-packages\\ipykernel_launcher.py:20: RuntimeWarning: invalid value encountered in power\n",
      "D:\\SOFT\\anaconda3\\lib\\site-packages\\ipykernel_launcher.py:20: RuntimeWarning: divide by zero encountered in true_divide\n",
      "D:\\SOFT\\anaconda3\\lib\\site-packages\\ipykernel_launcher.py:20: RuntimeWarning: overflow encountered in true_divide\n"
     ]
    }
   ],
   "source": [
    "results = {}\n",
    "for k in data:\n",
    "    results[k] = explore_data(k)"
   ]
  },
  {
   "cell_type": "code",
   "execution_count": 26,
   "metadata": {},
   "outputs": [
    {
     "name": "stderr",
     "output_type": "stream",
     "text": [
      "IOPub data rate exceeded.\n",
      "The notebook server will temporarily stop sending output\n",
      "to the client in order to avoid crashing it.\n",
      "To change this limit, set the config variable\n",
      "`--NotebookApp.iopub_data_rate_limit`.\n",
      "\n",
      "Current values:\n",
      "NotebookApp.iopub_data_rate_limit=1000000.0 (bytes/sec)\n",
      "NotebookApp.rate_limit_window=3.0 (secs)\n",
      "\n"
     ]
    }
   ],
   "source": [
    "print(results)"
   ]
  },
  {
   "cell_type": "code",
   "execution_count": 65,
   "metadata": {},
   "outputs": [
    {
     "name": "stdout",
     "output_type": "stream",
     "text": [
      "All data\n"
     ]
    },
    {
     "name": "stderr",
     "output_type": "stream",
     "text": [
      "D:\\SOFT\\anaconda3\\lib\\site-packages\\ipykernel_launcher.py:22: RuntimeWarning: invalid value encountered in power\n"
     ]
    },
    {
     "name": "stdout",
     "output_type": "stream",
     "text": [
      "Optimal parameters: [1.06552597e+00 1.35080095e+00 1.02328768e+05]\n",
      "Mean squared error: 2196.78898920902\n",
      "\n",
      "Removing the 801 most frequent words\n",
      "Optimal parameters: [1.74598573e+00 8.79388096e+02 2.69612889e+07]\n",
      "Mean squared error: 0.11822805178385377\n",
      "\n"
     ]
    }
   ],
   "source": [
    "explore_data(\"./cwords_done/novels_wh.txt\")"
   ]
  },
  {
   "cell_type": "code",
   "execution_count": 66,
   "metadata": {},
   "outputs": [
    {
     "name": "stdout",
     "output_type": "stream",
     "text": [
      "All data\n"
     ]
    },
    {
     "name": "stderr",
     "output_type": "stream",
     "text": [
      "D:\\SOFT\\anaconda3\\lib\\site-packages\\ipykernel_launcher.py:22: RuntimeWarning: invalid value encountered in power\n"
     ]
    },
    {
     "name": "stdout",
     "output_type": "stream",
     "text": [
      "Optimal parameters: [ 3.08752019e-01 -9.99999961e-01  1.07602604e+03]\n",
      "Mean squared error: 1031548.7079973059\n",
      "\n",
      "Removing the 1401 most frequent words\n",
      "Optimal parameters: [1.92506009e+00 1.83174829e+03 1.22488140e+09]\n",
      "Mean squared error: 0.2829371305888245\n",
      "\n"
     ]
    }
   ],
   "source": [
    "explore_data(\"./cwords_done/novels_st.txt\")"
   ]
  }
 ],
 "metadata": {
  "kernelspec": {
   "display_name": "Python 3",
   "language": "python",
   "name": "python3"
  },
  "language_info": {
   "codemirror_mode": {
    "name": "ipython",
    "version": 3
   },
   "file_extension": ".py",
   "mimetype": "text/x-python",
   "name": "python",
   "nbconvert_exporter": "python",
   "pygments_lexer": "ipython3",
   "version": "3.6.5"
  }
 },
 "nbformat": 4,
 "nbformat_minor": 2
}
